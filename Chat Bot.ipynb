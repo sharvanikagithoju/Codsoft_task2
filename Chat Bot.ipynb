{
  "nbformat": 4,
  "nbformat_minor": 0,
  "metadata": {
    "colab": {
      "provenance": [],
      "authorship_tag": "ABX9TyMgHeoRsgXhg4Vl0u7fks+B",
      "include_colab_link": true
    },
    "kernelspec": {
      "name": "python3",
      "display_name": "Python 3"
    },
    "language_info": {
      "name": "python"
    }
  },
  "cells": [
    {
      "cell_type": "markdown",
      "metadata": {
        "id": "view-in-github",
        "colab_type": "text"
      },
      "source": [
        "<a href=\"https://colab.research.google.com/github/sharvanikagithoju/codesoft/blob/main/Chat%20Bot.ipynb\" target=\"_parent\"><img src=\"https://colab.research.google.com/assets/colab-badge.svg\" alt=\"Open In Colab\"/></a>"
      ]
    },
    {
      "cell_type": "code",
      "execution_count": null,
      "metadata": {
        "colab": {
          "base_uri": "https://localhost:8080/"
        },
        "id": "kpKFgdIAa0So",
        "outputId": "71ad85a5-9e2a-4edf-f801-da58b05e583e"
      },
      "outputs": [
        {
          "output_type": "stream",
          "name": "stdout",
          "text": [
            "Chatbot: Hello! How can I help you?\n",
            "You: hii\n",
            "Chatbot: Hello!\n",
            "You: how are you\n",
            "Chatbot: I'm great, thanks for asking!\n",
            "You: bye\n",
            "Chatbot: See you later!\n"
          ]
        }
      ],
      "source": [
        "import random\n",
        "\n",
        "# Define rules and responses\n",
        "rules = {\n",
        "    \"hi\": [\"Hello!\", \"Hi there!\", \"Hey!\"],\n",
        "    \"how are you\": [\"I'm doing well, thank you!\", \"I'm great, thanks for asking!\"],\n",
        "    \"bye\": [\"Goodbye!\", \"See you later!\", \"Bye!\"],\n",
        "    \"default\": [\"I'm not sure how to respond to that.\", \"Could you please rephrase that?\", \"I didn't understand.\"],\n",
        "}\n",
        "\n",
        "# Define function to generate response based on input\n",
        "def get_response(message):\n",
        "    message = message.lower()\n",
        "    for key in rules:\n",
        "        if key in message:\n",
        "            return random.choice(rules[key])\n",
        "    return random.choice(rules[\"default\"])\n",
        "\n",
        "# Main loop to interact with the user\n",
        "print(\"Chatbot: Hello! How can I help you?\")\n",
        "while True:\n",
        "    user_input = input(\"You: \")\n",
        "    if user_input.lower() == 'exit':\n",
        "        print(\"Chatbot: Goodbye!\")\n",
        "        break\n",
        "    response = get_response(user_input)\n",
        "    print(\"Chatbot:\", response)"
      ]
    }
  ]
}